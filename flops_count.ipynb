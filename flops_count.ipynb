{
 "cells": [
  {
   "cell_type": "code",
   "execution_count": 1,
   "metadata": {},
   "outputs": [],
   "source": [
    "import torch\n",
    "from deit.models_deit import CFVisionTransformer\n",
    "from fvcore.nn import FlopCountAnalysis\n",
    "\n",
    "\n",
    "device = \"cpu\"\n",
    "\n",
    "model = CFVisionTransformer(drop_rate=0.0, drop_path_rate=0.1).to(device)\n",
    "model.informative_selection = True\n",
    "model.use_early_exit = True\n",
    "\n",
    "\n",
    "def get_example_input(img_size_list):\n",
    "    return [torch.zeros(1, 3, i, i, device=device) for i in img_size_list]"
   ]
  },
  {
   "cell_type": "code",
   "execution_count": 2,
   "metadata": {},
   "outputs": [
    {
     "name": "stderr",
     "output_type": "stream",
     "text": [
      "Unsupported operator aten::add encountered 47 time(s)\n",
      "Unsupported operator aten::mul encountered 34 time(s)\n",
      "Unsupported operator aten::softmax encountered 12 time(s)\n",
      "Unsupported operator aten::gelu encountered 12 time(s)\n",
      "Unsupported operator aten::rand encountered 22 time(s)\n",
      "Unsupported operator aten::floor_ encountered 22 time(s)\n",
      "Unsupported operator aten::div encountered 22 time(s)\n",
      "The following submodules of the model were never called during the trace of the graph. They may be unused, or they were accessed by direct calls to .forward() or via other python methods. In the latter case they will have zeros for statistics, though their statistics will still contribute to their parent calling module.\n",
      "reuse_block, reuse_block.0, reuse_block.1, reuse_block.1.act, reuse_block.1.drop, reuse_block.1.fc1, reuse_block.1.fc2\n"
     ]
    },
    {
     "data": {
      "text/plain": [
       "811039104"
      ]
     },
     "execution_count": 2,
     "metadata": {},
     "output_type": "execute_result"
    }
   ],
   "source": [
    "model.thresholds = [0.0, 0.0]\n",
    "FlopCountAnalysis(model, get_example_input([96, 192, 384])).total()"
   ]
  },
  {
   "cell_type": "code",
   "execution_count": 3,
   "metadata": {},
   "outputs": [
    {
     "name": "stderr",
     "output_type": "stream",
     "text": [
      "Unsupported operator aten::add encountered 111 time(s)\n",
      "Unsupported operator aten::mul encountered 93 time(s)\n",
      "Unsupported operator aten::softmax encountered 25 time(s)\n",
      "Unsupported operator aten::gelu encountered 25 time(s)\n",
      "Unsupported operator aten::rand encountered 44 time(s)\n",
      "Unsupported operator aten::floor_ encountered 44 time(s)\n",
      "Unsupported operator aten::div encountered 44 time(s)\n",
      "Unsupported operator aten::le encountered 1 time(s)\n",
      "Unsupported operator aten::logical_and encountered 1 time(s)\n",
      "Unsupported operator aten::sub encountered 1 time(s)\n",
      "Unsupported operator aten::mean encountered 1 time(s)\n",
      "Unsupported operator aten::argsort encountered 1 time(s)\n"
     ]
    },
    {
     "data": {
      "text/plain": [
       "2909431296"
      ]
     },
     "execution_count": 3,
     "metadata": {},
     "output_type": "execute_result"
    }
   ],
   "source": [
    "model.thresholds = [1.0, 0.0]\n",
    "FlopCountAnalysis(model, get_example_input([96, 192, 384])).total()"
   ]
  },
  {
   "cell_type": "code",
   "execution_count": 4,
   "metadata": {},
   "outputs": [
    {
     "name": "stderr",
     "output_type": "stream",
     "text": [
      "Unsupported operator aten::add encountered 111 time(s)\n",
      "Unsupported operator aten::mul encountered 93 time(s)\n",
      "Unsupported operator aten::softmax encountered 25 time(s)\n",
      "Unsupported operator aten::gelu encountered 25 time(s)\n",
      "Unsupported operator aten::rand encountered 44 time(s)\n",
      "Unsupported operator aten::floor_ encountered 44 time(s)\n",
      "Unsupported operator aten::div encountered 44 time(s)\n",
      "Unsupported operator aten::le encountered 1 time(s)\n",
      "Unsupported operator aten::sub encountered 1 time(s)\n",
      "Unsupported operator aten::mean encountered 1 time(s)\n",
      "Unsupported operator aten::argsort encountered 1 time(s)\n"
     ]
    },
    {
     "data": {
      "text/plain": [
       "8426119680"
      ]
     },
     "execution_count": 4,
     "metadata": {},
     "output_type": "execute_result"
    }
   ],
   "source": [
    "model.thresholds = [1.0, 1.0]\n",
    "FlopCountAnalysis(model, get_example_input([96, 192, 384])).total()"
   ]
  }
 ],
 "metadata": {
  "kernelspec": {
   "display_name": "Python 3",
   "language": "python",
   "name": "python3"
  },
  "language_info": {
   "codemirror_mode": {
    "name": "ipython",
    "version": 3
   },
   "file_extension": ".py",
   "mimetype": "text/x-python",
   "name": "python",
   "nbconvert_exporter": "python",
   "pygments_lexer": "ipython3",
   "version": "3.11.6"
  }
 },
 "nbformat": 4,
 "nbformat_minor": 2
}
